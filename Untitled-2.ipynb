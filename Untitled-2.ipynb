{
 "cells": [
  {
   "cell_type": "code",
   "execution_count": 1,
   "metadata": {},
   "outputs": [
    {
     "name": "stderr",
     "output_type": "stream",
     "text": [
      "D:\\anaconda\\lib\\site-packages\\statsmodels\\tools\\_testing.py:19: FutureWarning: pandas.util.testing is deprecated. Use the functions in the public API at pandas.testing instead.\n",
      "  import pandas.util.testing as tm\n",
      "UsageError: unrecognized arguments: #设置图像显示方式\n"
     ]
    }
   ],
   "source": [
    "import pandas as pd\n",
    "import numpy as np\n",
    "import seaborn as sns\n",
    "import matplotlib.pyplot as plt\n",
    "from sklearn.preprocessing import MinMaxScaler\n",
    "%matplotlib inline  #设置图像显示方式\n",
    "sns.set()    #设置画图空间为 Seaborn 默认风格"
   ]
  },
  {
   "cell_type": "code",
   "execution_count": 2,
   "metadata": {},
   "outputs": [
    {
     "data": {
      "text/html": [
       "<div>\n",
       "<style scoped>\n",
       "    .dataframe tbody tr th:only-of-type {\n",
       "        vertical-align: middle;\n",
       "    }\n",
       "\n",
       "    .dataframe tbody tr th {\n",
       "        vertical-align: top;\n",
       "    }\n",
       "\n",
       "    .dataframe thead th {\n",
       "        text-align: right;\n",
       "    }\n",
       "</style>\n",
       "<table border=\"1\" class=\"dataframe\">\n",
       "  <thead>\n",
       "    <tr style=\"text-align: right;\">\n",
       "      <th></th>\n",
       "      <th>学号</th>\n",
       "      <th>性别</th>\n",
       "      <th>身高</th>\n",
       "      <th>体重</th>\n",
       "      <th>支出</th>\n",
       "      <th>开设</th>\n",
       "      <th>课程</th>\n",
       "      <th>软件</th>\n",
       "    </tr>\n",
       "  </thead>\n",
       "  <tbody>\n",
       "    <tr>\n",
       "      <th>0</th>\n",
       "      <td>1510248008</td>\n",
       "      <td>女</td>\n",
       "      <td>167</td>\n",
       "      <td>71</td>\n",
       "      <td>46.0</td>\n",
       "      <td>不清楚</td>\n",
       "      <td>都未学过</td>\n",
       "      <td>No</td>\n",
       "    </tr>\n",
       "    <tr>\n",
       "      <th>1</th>\n",
       "      <td>1510229019</td>\n",
       "      <td>男</td>\n",
       "      <td>171</td>\n",
       "      <td>68</td>\n",
       "      <td>10.4</td>\n",
       "      <td>有必要</td>\n",
       "      <td>概率统计</td>\n",
       "      <td>Matlab</td>\n",
       "    </tr>\n",
       "    <tr>\n",
       "      <th>2</th>\n",
       "      <td>1512108019</td>\n",
       "      <td>女</td>\n",
       "      <td>175</td>\n",
       "      <td>73</td>\n",
       "      <td>21.0</td>\n",
       "      <td>有必要</td>\n",
       "      <td>统计方法</td>\n",
       "      <td>SPSS</td>\n",
       "    </tr>\n",
       "    <tr>\n",
       "      <th>3</th>\n",
       "      <td>1512332010</td>\n",
       "      <td>男</td>\n",
       "      <td>169</td>\n",
       "      <td>74</td>\n",
       "      <td>4.9</td>\n",
       "      <td>有必要</td>\n",
       "      <td>编程技术</td>\n",
       "      <td>Excel</td>\n",
       "    </tr>\n",
       "    <tr>\n",
       "      <th>4</th>\n",
       "      <td>1512331015</td>\n",
       "      <td>男</td>\n",
       "      <td>154</td>\n",
       "      <td>55</td>\n",
       "      <td>25.9</td>\n",
       "      <td>有必要</td>\n",
       "      <td>都学习过</td>\n",
       "      <td>Python</td>\n",
       "    </tr>\n",
       "  </tbody>\n",
       "</table>\n",
       "</div>"
      ],
      "text/plain": [
       "           学号 性别   身高  体重    支出   开设    课程      软件\n",
       "0  1510248008  女  167  71  46.0  不清楚  都未学过      No\n",
       "1  1510229019  男  171  68  10.4  有必要  概率统计  Matlab\n",
       "2  1512108019  女  175  73  21.0  有必要  统计方法    SPSS\n",
       "3  1512332010  男  169  74   4.9  有必要  编程技术   Excel\n",
       "4  1512331015  男  154  55  25.9  有必要  都学习过  Python"
      ]
     },
     "execution_count": 2,
     "metadata": {},
     "output_type": "execute_result"
    }
   ],
   "source": [
    "df=pd.read_excel('DaPy_data.xlsx')\n",
    "df.head()"
   ]
  },
  {
   "cell_type": "code",
   "execution_count": 9,
   "metadata": {},
   "outputs": [
    {
     "data": {
      "image/png": "[encoded data removed]",
      "text/plain": [
       "<Figure size 432x288 with 1 Axes>"
      ]
     },
     "metadata": {
      "needs_background": "light"
     },
     "output_type": "display_data"
    }
   ],
   "source": [
    "plt.xlabel(\"X\")\n",
    "plt.ylabel(\"Y\")\n",
    "plt.grid(axis='x')\n",
    "plt.title(\"sin&cos\")\n",
    "\n",
    "plt.figure(1)\n",
    "\n",
    "plt.bar(df[\"身高\"],df[\"体重\"])\n",
    "\n",
    "plt.show()  "
   ]
  },
  {
   "cell_type": "code",
   "execution_count": 27,
   "metadata": {},
   "outputs": [
    {
     "name": "stdout",
     "output_type": "stream",
     "text": [
      "     身高  index\n",
      "166   4    166\n",
      "163   4    163\n",
      "169   4    169\n",
      "164   3    164\n",
      "178   3    178\n",
      "167   3    167\n",
      "175   2    175\n",
      "158   2    158\n",
      "174   2    174\n",
      "160   2    160\n",
      "173   2    173\n",
      "165   2    165\n",
      "168   2    168\n",
      "155   2    155\n",
      "171   2    171\n",
      "180   1    180\n",
      "154   1    154\n",
      "183   1    183\n",
      "184   1    184\n",
      "185   1    185\n",
      "179   1    179\n",
      "170   1    170\n",
      "176   1    176\n",
      "172   1    172\n",
      "162   1    162\n",
      "159   1    159\n",
      "156   1    156\n",
      "186   1    186\n"
     ]
    },
    {
     "data": {
      "text/plain": [
       "<BarContainer object of 28 artists>"
      ]
     },
     "execution_count": 27,
     "metadata": {},
     "output_type": "execute_result"
    },
    {
     "data": {
      "image/png": "[encoded data removed]",
      "text/plain": [
       "<Figure size 432x288 with 1 Axes>"
      ]
     },
     "metadata": {
      "needs_background": "light"
     },
     "output_type": "display_data"
    }
   ],
   "source": [
    "count=df[\"身高\"].value_counts()\n",
    "df_count=count.to_frame()\n",
    "# print(df_count.index,df_count.values)\n",
    "df_count[\"index\"]=df_count.index\n",
    "print(df_count)\n",
    "\n",
    "plt.bar(df_count[\"index\"],df_count[\"身高\"])\n"
   ]
  },
  {
   "cell_type": "code",
   "execution_count": 45,
   "metadata": {},
   "outputs": [
    {
     "name": "stdout",
     "output_type": "stream",
     "text": [
      "   性别 index\n",
      "男  27     男\n",
      "女  25     女\n"
     ]
    },
    {
     "data": {
      "text/plain": [
       "<BarContainer object of 2 artists>"
      ]
     },
     "execution_count": 45,
     "metadata": {},
     "output_type": "execute_result"
    },
    {
     "data": {
      "image/png": "[encoded data removed]",
      "text/plain": [
       "<Figure size 432x288 with 1 Axes>"
      ]
     },
     "metadata": {
      "needs_background": "light"
     },
     "output_type": "display_data"
    }
   ],
   "source": [
    "plt.rcParams['font.sans-serif'] = ['KaiTi'] # 指定默认字体\n",
    "count=df[\"性别\"].value_counts()\n",
    "df_count2=count.to_frame()\n",
    "# print(df_count.index,df_count.values)\n",
    "df_count2[\"index\"]=df_count2.index\n",
    "print(df_count2)\n",
    "plt.title(\"这是title\")\n",
    "plt.xlabel(\"X轴\")\n",
    "plt.ylabel(\"Y轴\")\n",
    "# plt.legend()\n",
    "plt.bar(df_count2[\"index\"],df_count2[\"性别\"])"
   ]
  }
 ],
 "metadata": {
  "interpreter": {
   "hash": "cc5f70855ac006f3de45a3cc3b9e7d8d53845e50458809cb162b0174266dec97"
  },
  "kernelspec": {
   "display_name": "Python 3.7.3 ('base')",
   "language": "python",
   "name": "python3"
  },
  "language_info": {
   "codemirror_mode": {
    "name": "ipython",
    "version": 3
   },
   "file_extension": ".py",
   "mimetype": "text/x-python",
   "name": "python",
   "nbconvert_exporter": "python",
   "pygments_lexer": "ipython3",
   "version": "3.7.3"
  },
  "orig_nbformat": 4
 },
 "nbformat": 4,
 "nbformat_minor": 2
}
